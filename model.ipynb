{
 "cells": [
  {
   "cell_type": "code",
   "execution_count": 1,
   "metadata": {},
   "outputs": [],
   "source": [
    "# Logging information about the simulation\n",
    "import PySpice.Logging.Logging as Logging\n",
    "logger = Logging.setup_logging()"
   ]
  },
  {
   "cell_type": "code",
   "execution_count": 2,
   "metadata": {},
   "outputs": [],
   "source": [
    "from PySpice.Spice.Netlist import Circuit # for creating circuits\n",
    "from PySpice.Unit import *                # for adding units"
   ]
  },
  {
   "cell_type": "code",
   "execution_count": 3,
   "metadata": {},
   "outputs": [],
   "source": [
    "import numpy as np\n",
    "import matplotlib\n",
    "import matplotlib.pyplot as plt"
   ]
  },
  {
   "cell_type": "code",
   "execution_count": 4,
   "metadata": {},
   "outputs": [],
   "source": [
    "matplotlib.rcParams.update({'font.size': 14,\n",
    "                            'text.usetex': True, # use TeX backend\n",
    "                            'mathtext.fontset': 'cm', # computer modern\n",
    "                            'mathtext.rm': 'serif'})"
   ]
  },
  {
   "attachments": {},
   "cell_type": "markdown",
   "metadata": {},
   "source": [
    "# Template \n",
    "the proces pf creating  and simulating a circuit in Pyspice can be summarized as follows:\n",
    "- create a circuit instance\n",
    "- Add components to the circuit\n",
    "- Set up the simulator\n",
    "- Simulate the circuit\n",
    "- Read the result\n",
    "\n",
    "## Example 1: A simple resistive divider circuit\n"
   ]
  },
  {
   "attachments": {},
   "cell_type": "markdown",
   "metadata": {},
   "source": [
    "\n",
    "![cir1.svg](attachment:cir1.svg)"
   ]
  },
  {
   "cell_type": "code",
   "execution_count": 5,
   "metadata": {},
   "outputs": [],
   "source": [
    "circuit = Circuit('Resistive Divider') #initialize circuit"
   ]
  },
  {
   "cell_type": "code",
   "execution_count": 6,
   "metadata": {},
   "outputs": [
    {
     "data": {
      "text/plain": [
       "Resistor R2"
      ]
     },
     "execution_count": 6,
     "metadata": {},
     "output_type": "execute_result"
    }
   ],
   "source": [
    "# Add Components to the circuit\n",
    "circuit.V(1,'n_in',circuit.gnd,10@u_V)\n",
    "circuit.R(1,'n_in','n_out',2@u_kOhm)\n",
    "circuit.R(2,'n_out',circuit.gnd,3@u_kOhm)"
   ]
  },
  {
   "cell_type": "code",
   "execution_count": 7,
   "metadata": {},
   "outputs": [
    {
     "name": "stdout",
     "output_type": "stream",
     "text": [
      ".title Resistive Divider\n",
      "V1 n_in 0 10V\n",
      "R1 n_in n_out 2kOhm\n",
      "R2 n_out 0 3kOhm\n",
      "\n"
     ]
    }
   ],
   "source": [
    "print(circuit)\n"
   ]
  },
  {
   "cell_type": "code",
   "execution_count": 8,
   "metadata": {},
   "outputs": [
    {
     "name": "stdout",
     "output_type": "stream",
     "text": [
      "2023-01-17 22:59:47,720 - PySpice.Spice.NgSpice.Shared.NgSpiceShared - Shared.WARNING - Unsupported Ngspice version 38\n",
      ".title Resistive Divider\n",
      "V1 n_in 0 10V\n",
      "R1 n_in n_out 2kOhm\n",
      "R2 n_out 0 3kOhm\n",
      ".options TEMP = 25C\n",
      ".options TNOM = 25C\n",
      ".end\n",
      "\n"
     ]
    }
   ],
   "source": [
    "# create simulator\n",
    "simulator = circuit.simulator(temperature=25, nominal_temperature=25)\n",
    "print(simulator)"
   ]
  },
  {
   "cell_type": "code",
   "execution_count": 9,
   "metadata": {},
   "outputs": [],
   "source": [
    "analysis = simulator.operating_point()"
   ]
  },
  {
   "cell_type": "code",
   "execution_count": 10,
   "metadata": {},
   "outputs": [
    {
     "name": "stdout",
     "output_type": "stream",
     "text": [
      "n_out: 6.0V\n",
      "n_in: 10.0V\n"
     ]
    }
   ],
   "source": [
    "for node in analysis.nodes.values():\n",
    "    print(f\"{str(node)}: {float(node)}V\")"
   ]
  },
  {
   "cell_type": "code",
   "execution_count": 11,
   "metadata": {},
   "outputs": [
    {
     "name": "stdout",
     "output_type": "stream",
     "text": [
      "6.0\n"
     ]
    }
   ],
   "source": [
    "print(float(analysis.nodes['n_out']))\n"
   ]
  },
  {
   "cell_type": "code",
   "execution_count": 12,
   "metadata": {},
   "outputs": [
    {
     "name": "stdout",
     "output_type": "stream",
     "text": [
      "v1: -0.002A\n"
     ]
    }
   ],
   "source": [
    "for branch in analysis.branches.values():\n",
    "    print(f\"{str(branch)}: {float(branch)}A\")"
   ]
  },
  {
   "cell_type": "code",
   "execution_count": null,
   "metadata": {},
   "outputs": [],
   "source": []
  }
 ],
 "metadata": {
  "kernelspec": {
   "display_name": "pyspice",
   "language": "python",
   "name": "python3"
  },
  "language_info": {
   "codemirror_mode": {
    "name": "ipython",
    "version": 3
   },
   "file_extension": ".py",
   "mimetype": "text/x-python",
   "name": "python",
   "nbconvert_exporter": "python",
   "pygments_lexer": "ipython3",
   "version": "3.9.15"
  },
  "orig_nbformat": 4,
  "vscode": {
   "interpreter": {
    "hash": "36af51ada670833d24100e24c9d4800749162b51af08a731b0425379c6e24fd3"
   }
  }
 },
 "nbformat": 4,
 "nbformat_minor": 2
}
